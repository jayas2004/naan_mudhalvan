{
  "nbformat": 4,
  "nbformat_minor": 0,
  "metadata": {
    "colab": {
      "provenance": []
    },
    "kernelspec": {
      "name": "python3",
      "display_name": "Python 3"
    },
    "language_info": {
      "name": "python"
    }
  },
  "cells": [
    {
      "cell_type": "code",
      "execution_count": 1,
      "metadata": {
        "colab": {
          "base_uri": "https://localhost:8080/"
        },
        "id": "9_V9XFigU-nt",
        "outputId": "92213834-8a79-41b5-eb5d-0bbfe14cb793"
      },
      "outputs": [
        {
          "output_type": "stream",
          "name": "stdout",
          "text": [
            "Requirement already satisfied: scikit-learn in /usr/local/lib/python3.11/dist-packages (1.6.1)\n",
            "Requirement already satisfied: pandas in /usr/local/lib/python3.11/dist-packages (2.2.2)\n",
            "Requirement already satisfied: numpy>=1.19.5 in /usr/local/lib/python3.11/dist-packages (from scikit-learn) (2.0.2)\n",
            "Requirement already satisfied: scipy>=1.6.0 in /usr/local/lib/python3.11/dist-packages (from scikit-learn) (1.15.2)\n",
            "Requirement already satisfied: joblib>=1.2.0 in /usr/local/lib/python3.11/dist-packages (from scikit-learn) (1.4.2)\n",
            "Requirement already satisfied: threadpoolctl>=3.1.0 in /usr/local/lib/python3.11/dist-packages (from scikit-learn) (3.6.0)\n",
            "Requirement already satisfied: python-dateutil>=2.8.2 in /usr/local/lib/python3.11/dist-packages (from pandas) (2.9.0.post0)\n",
            "Requirement already satisfied: pytz>=2020.1 in /usr/local/lib/python3.11/dist-packages (from pandas) (2025.2)\n",
            "Requirement already satisfied: tzdata>=2022.7 in /usr/local/lib/python3.11/dist-packages (from pandas) (2025.2)\n",
            "Requirement already satisfied: six>=1.5 in /usr/local/lib/python3.11/dist-packages (from python-dateutil>=2.8.2->pandas) (1.17.0)\n"
          ]
        }
      ],
      "source": [
        "!pip install scikit-learn pandas\n"
      ]
    },
    {
      "cell_type": "code",
      "source": [
        "import pandas as pd\n",
        "from sklearn.feature_extraction.text import TfidfVectorizer\n",
        "from sklearn.metrics.pairwise import cosine_similarity\n",
        "\n",
        "# Load dataset\n",
        "df = pd.read_csv('/content/imdb_2024_movies.csv')\n",
        "\n",
        "\n",
        "# Drop any missing values\n",
        "df.dropna(inplace=True)\n",
        "\n",
        "# Vectorize the storylines using TF-IDF\n",
        "vectorizer = TfidfVectorizer(stop_words='english')\n",
        "tfidf_matrix = vectorizer.fit_transform(df['Storyline'])\n",
        "\n",
        "# Recommendation function\n",
        "def recommend_movies(input_storyline, top_n=5):\n",
        "    input_vec = vectorizer.transform([input_storyline])\n",
        "    similarity_scores = cosine_similarity(input_vec, tfidf_matrix).flatten()\n",
        "    top_indices = similarity_scores.argsort()[-top_n:][::-1]\n",
        "    return df.iloc[top_indices][['Movie Name', 'Storyline']]\n"
      ],
      "metadata": {
        "id": "nO4A7kKzWT3b"
      },
      "execution_count": 8,
      "outputs": []
    },
    {
      "cell_type": "code",
      "source": [
        "user_input = \"A young wizard begins his journey at a magical school where he makes friends and enemies, facing dark forces along the way.\"\n",
        "\n",
        "recommendations = recommend_movies(user_input)\n",
        "for i, row in recommendations.iterrows():\n",
        "    print(f\"🎬 {row['Movie Name']}\\n📖 {row['Storyline']}\\n\")\n"
      ],
      "metadata": {
        "colab": {
          "base_uri": "https://localhost:8080/"
        },
        "id": "xSOUQM65XC5b",
        "outputId": "dde0afe8-35df-4ebe-c955-17f09c604604"
      },
      "execution_count": 9,
      "outputs": [
        {
          "output_type": "stream",
          "name": "stdout",
          "text": [
            "🎬 The Magic Academy\n",
            "📖 A young student navigates life at a school for magic, facing challenges.\n",
            "\n",
            "🎬 The Dark Sorcerer\n",
            "📖 A young hero confronts an ancient sorcerer threatening the magical world.\n",
            "\n",
            "🎬 Mystic Trials\n",
            "📖 A teenager must pass magical tests to uncover his destiny.\n",
            "\n",
            "🎬 The Wizard’s Journey\n",
            "📖 A boy discovers his magical abilities and faces a powerful sorcerer.\n",
            "\n",
            "🎬 Arcane Legacy\n",
            "📖 Legacy magic awakens in a new generation destined to change the world.\n",
            "\n"
          ]
        }
      ]
    }
  ]
}